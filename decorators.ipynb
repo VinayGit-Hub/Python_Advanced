{
 "cells": [
  {
   "cell_type": "code",
   "execution_count": 45,
   "metadata": {},
   "outputs": [],
   "source": [
    "def my_dec(func):\n",
    "    def wrapper():\n",
    "        print(\"Before calling a function\")\n",
    "        func()\n",
    "        print(\"After calling a function\")\n",
    "    return wrapper\n"
   ]
  },
  {
   "cell_type": "code",
   "execution_count": 46,
   "metadata": {},
   "outputs": [],
   "source": [
    "def say_hello():\n",
    "    print(\"Hello!\")"
   ]
  },
  {
   "cell_type": "code",
   "execution_count": 47,
   "metadata": {},
   "outputs": [
    {
     "name": "stdout",
     "output_type": "stream",
     "text": [
      "Before calling a function\n",
      "Hello!\n",
      "After calling a function\n"
     ]
    }
   ],
   "source": [
    "say_hello = my_dec(say_hello)\n",
    "say_hello()"
   ]
  },
  {
   "cell_type": "code",
   "execution_count": 48,
   "metadata": {},
   "outputs": [],
   "source": [
    "@my_dec\n",
    "def say_hello():\n",
    "    print(\"Hello!\")"
   ]
  },
  {
   "cell_type": "code",
   "execution_count": 42,
   "metadata": {},
   "outputs": [
    {
     "name": "stdout",
     "output_type": "stream",
     "text": [
      "Before calling a function\n",
      "Hello!\n",
      "After calling a function\n"
     ]
    }
   ],
   "source": [
    "say_hello()"
   ]
  },
  {
   "cell_type": "markdown",
   "metadata": {},
   "source": [
    "Decorator with Arguments: If the original function takes arguments, the wrapper function should also accept them."
   ]
  },
  {
   "cell_type": "code",
   "execution_count": 59,
   "metadata": {},
   "outputs": [],
   "source": [
    "def my_decorator(func):\n",
    "    def wrapper(*args, **kwargs):\n",
    "        print(\"Arguments passed to the function:\", args, kwargs)\n",
    "        result = func(*args, **kwargs)\n",
    "        print(\"Function Executed.\")\n",
    "        return result\n",
    "    return wrapper"
   ]
  },
  {
   "cell_type": "code",
   "execution_count": 62,
   "metadata": {},
   "outputs": [
    {
     "name": "stdout",
     "output_type": "stream",
     "text": [
      "Arguments passed to the function: (5, 7) {}\n",
      "Function Executed.\n",
      "12\n"
     ]
    }
   ],
   "source": [
    "@my_decorator\n",
    "def add(a,b):\n",
    "    return a + b\n",
    "print(add(5,7))"
   ]
  },
  {
   "cell_type": "code",
   "execution_count": 61,
   "metadata": {},
   "outputs": [
    {
     "name": "stdout",
     "output_type": "stream",
     "text": [
      "Arguments passed to the function: () {'a': 5, 'b': 7}\n",
      "Function Executed.\n",
      "12\n"
     ]
    }
   ],
   "source": [
    "@my_decorator\n",
    "def add(a,b):\n",
    "    return a + b\n",
    "print(add(a=5,b=7))"
   ]
  },
  {
   "cell_type": "markdown",
   "metadata": {},
   "source": [
    "Chaining Multiple Decorators: You can apply multiple decorators to a function by stacking them.\n",
    "\n",
    "Decorators are applied from the innermost to the outermost (decorator_two is applied first, then decorator_one)."
   ]
  },
  {
   "cell_type": "code",
   "execution_count": 9,
   "metadata": {},
   "outputs": [
    {
     "name": "stdout",
     "output_type": "stream",
     "text": [
      "Decorator One\n",
      "Decorator Two\n",
      "Hello! This is greet function, an argument to the decorator function\n"
     ]
    }
   ],
   "source": [
    "def decorator_one(func):\n",
    "    def wrapper():\n",
    "        print(\"Decorator One\")\n",
    "        func()\n",
    "    return wrapper\n",
    "\n",
    "def decorator_two(func):\n",
    "    def wrapper():\n",
    "        print(\"Decorator Two\")\n",
    "        func()\n",
    "    return wrapper\n",
    "\n",
    "@decorator_one\n",
    "@decorator_two\n",
    "def greet():\n",
    "    print(\"Hello! This is greet function, an argument to the decorator function\")\n",
    "\n",
    "greet()\n"
   ]
  },
  {
   "cell_type": "markdown",
   "metadata": {},
   "source": [
    "Logging: A decorator can be used to log function calls and their arguments."
   ]
  },
  {
   "cell_type": "code",
   "execution_count": 19,
   "metadata": {},
   "outputs": [
    {
     "name": "stdout",
     "output_type": "stream",
     "text": [
      "Function 'multiply' called with arguments (7, 7) and {}\n",
      "49\n"
     ]
    }
   ],
   "source": [
    "def log(func):\n",
    "    def wrapper(*args, **kwargs):\n",
    "        print(f\"Function '{func.__name__}' called with arguments {args} and {kwargs}\")\n",
    "        return func(*args, **kwargs)\n",
    "    return wrapper\n",
    "@log\n",
    "def multiply(a,b):\n",
    "    return a*b\n",
    "\n",
    "print(multiply(7,7))\n",
    "\n"
   ]
  },
  {
   "cell_type": "markdown",
   "metadata": {},
   "source": [
    "Access Control:\n",
    "Decorators can restrict access based on conditions."
   ]
  },
  {
   "cell_type": "code",
   "execution_count": 21,
   "metadata": {},
   "outputs": [],
   "source": [
    "def require_auth(func):\n",
    "    def wrapper(user):\n",
    "        if not user.get('is_authenticated'):\n",
    "            print(\"Un Authorized\")\n",
    "            return\n",
    "        return func(user)\n",
    "    return wrapper"
   ]
  },
  {
   "cell_type": "code",
   "execution_count": 23,
   "metadata": {},
   "outputs": [
    {
     "name": "stdout",
     "output_type": "stream",
     "text": [
      "Welcome, john_doe!\n",
      "Un Authorized\n"
     ]
    }
   ],
   "source": [
    "@require_auth\n",
    "def view_dashboard(user):\n",
    "    print(f\"Welcome, {user['username']}!\")\n",
    "\n",
    "user = {'username': 'john_doe', 'is_authenticated': True}\n",
    "view_dashboard(user)\n",
    "\n",
    "user = {'username': 'jane_doe', 'is_authenticated': False}\n",
    "view_dashboard(user)\n"
   ]
  },
  {
   "cell_type": "code",
   "execution_count": null,
   "metadata": {},
   "outputs": [],
   "source": []
  }
 ],
 "metadata": {
  "kernelspec": {
   "display_name": "Python 3",
   "language": "python",
   "name": "python3"
  },
  "language_info": {
   "codemirror_mode": {
    "name": "ipython",
    "version": 3
   },
   "file_extension": ".py",
   "mimetype": "text/x-python",
   "name": "python",
   "nbconvert_exporter": "python",
   "pygments_lexer": "ipython3",
   "version": "3.10.10"
  }
 },
 "nbformat": 4,
 "nbformat_minor": 2
}
