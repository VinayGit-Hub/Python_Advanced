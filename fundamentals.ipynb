{
 "cells": [
  {
   "cell_type": "markdown",
   "metadata": {},
   "source": [
    "## c:\\Users\\FL_LPT-546\\AppData\\Local\\Programs\\Python\\Python310\n",
    "\n",
    "Terminal; # python -u \"D:\\Project\\Python Advanced\\main.py\""
   ]
  },
  {
   "cell_type": "code",
   "execution_count": 1,
   "metadata": {},
   "outputs": [
    {
     "name": "stdout",
     "output_type": "stream",
     "text": [
      " Current version of Python is: 3.10.10 (tags/v3.10.10:aad5f6a, Feb  7 2023, 17:20:36) [MSC v.1929 64 bit (AMD64)]\n"
     ]
    }
   ],
   "source": [
    "import sys\n",
    "\n",
    "print(f' Current version of Python is: {sys.version}')"
   ]
  },
  {
   "cell_type": "markdown",
   "metadata": {},
   "source": [
    "#Terminal: python -u \"D:\\Project\\Python Advanced\\main.py\"\n",
    "\n",
    "Open the command palette (Ctrl+Shift+P or Cmd+Shift+P).\n",
    "Search for Preferences: Open Workspace Settings (JSON).\n",
    "Add or update the Python path directly in the opened JSON file.\n",
    "\n",
    "{\n",
    "    \"python.pythonPath\": \"C:\\\\Users\\\\FL_LPT-546\\\\AppData\\\\Local\\\\Programs\\\\Python\\\\Python36\\\\python.exe\"\n",
    "}"
   ]
  },
  {
   "cell_type": "code",
   "execution_count": null,
   "metadata": {},
   "outputs": [],
   "source": []
  },
  {
   "cell_type": "code",
   "execution_count": null,
   "metadata": {},
   "outputs": [],
   "source": []
  }
 ],
 "metadata": {
  "kernelspec": {
   "display_name": "Python 3",
   "language": "python",
   "name": "python3"
  },
  "language_info": {
   "codemirror_mode": {
    "name": "ipython",
    "version": 3
   },
   "file_extension": ".py",
   "mimetype": "text/x-python",
   "name": "python",
   "nbconvert_exporter": "python",
   "pygments_lexer": "ipython3",
   "version": "3.10.10"
  }
 },
 "nbformat": 4,
 "nbformat_minor": 2
}
